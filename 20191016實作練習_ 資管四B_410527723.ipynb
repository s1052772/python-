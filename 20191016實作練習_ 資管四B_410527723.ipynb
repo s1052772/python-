{
 "cells": [
  {
   "cell_type": "markdown",
   "metadata": {},
   "source": [
    "## 實作練習一"
   ]
  },
  {
   "cell_type": "code",
   "execution_count": 28,
   "metadata": {},
   "outputs": [
    {
     "name": "stdout",
     "output_type": "stream",
     "text": [
      "請輸入成績:80\n",
      "甲等」\n"
     ]
    }
   ],
   "source": [
    "score =input(\"請輸入成績:\")\n",
    "if int(score)>= 90  :\n",
    "    print('優等」')\n",
    "elif int(score)>= 80  :\n",
    "    print('甲等」')\n",
    "elif int(score)>= 70  :\n",
    "    print('乙等」')\n",
    "elif int(score)>= 60  :\n",
    "    print('丙等')\n",
    "else:\n",
    "    print('丁等')\n",
    "        "
   ]
  },
  {
   "cell_type": "code",
   "execution_count": 8,
   "metadata": {},
   "outputs": [
    {
     "name": "stdout",
     "output_type": "stream",
     "text": [
      "請輸入正整數:10\n",
      "55\n"
     ]
    }
   ],
   "source": [
    "sum=0\n",
    "n =int(input(\"請輸入正整數:\"))\n",
    "for n in range(1,n+1,1):\n",
    "       sum = sum + n\n",
    "print(sum) "
   ]
  },
  {
   "cell_type": "code",
   "execution_count": 24,
   "metadata": {},
   "outputs": [
    {
     "name": "stdout",
     "output_type": "stream",
     "text": [
      "請輸入正整數:10\n",
      "1\n",
      "2\n",
      "3\n",
      "4\n",
      "6\n",
      "7\n",
      "8\n",
      "9\n"
     ]
    }
   ],
   "source": [
    "n =input(\"請輸入正整數:\")   \n",
    "int(n)\n",
    "a=int(n)+1\n",
    "for n in range(a):\n",
    "    if(n%5==0):\n",
    "       continue\n",
    "    print(n)"
   ]
  },
  {
   "cell_type": "code",
   "execution_count": 27,
   "metadata": {},
   "outputs": [
    {
     "name": "stdout",
     "output_type": "stream",
     "text": [
      "請輸入正整數n的值:5\n",
      "5 != 120\n"
     ]
    }
   ],
   "source": [
    "n =input(\"請輸入正整數n的值:\")\n",
    "a=0\n",
    "b=1\n",
    "\n",
    "while(a<int(n)):\n",
    "    a+=1\n",
    "    b=a*b\n",
    "    \n",
    "print(n,\"!=\",b)\n"
   ]
  },
  {
   "cell_type": "code",
   "execution_count": null,
   "metadata": {},
   "outputs": [],
   "source": []
  }
 ],
 "metadata": {
  "kernelspec": {
   "display_name": "Python 3",
   "language": "python",
   "name": "python3"
  },
  "language_info": {
   "codemirror_mode": {
    "name": "ipython",
    "version": 3
   },
   "file_extension": ".py",
   "mimetype": "text/x-python",
   "name": "python",
   "nbconvert_exporter": "python",
   "pygments_lexer": "ipython3",
   "version": "3.7.3"
  }
 },
 "nbformat": 4,
 "nbformat_minor": 2
}
